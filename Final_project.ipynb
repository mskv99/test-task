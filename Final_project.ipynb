{
 "cells": [
  {
   "cell_type": "code",
   "execution_count": 2,
   "metadata": {},
   "outputs": [],
   "source": [
    "import numpy as np\n",
    "import pandas as pd\n",
    "import matplotlib.pyplot as plt\n",
    "import seaborn as sns\n",
    "from scipy import stats"
   ]
  },
  {
   "cell_type": "markdown",
   "metadata": {},
   "source": [
    "## Задание №1\n",
    "Написать функцию для подсчёта метрики `Retention` по дням с момента регистрации пользователей."
   ]
  },
  {
   "cell_type": "code",
   "execution_count": 3,
   "metadata": {},
   "outputs": [],
   "source": [
    "reg_time = pd.read_csv('~/shared/problem1-reg_data.csv', sep = ';')\n",
    "reg_time['reg_ts'] = pd.to_datetime(reg_time['reg_ts'], unit = 's')\n",
    "reg_time['start_date'] = reg_time['reg_ts'].dt.date"
   ]
  },
  {
   "cell_type": "code",
   "execution_count": 4,
   "metadata": {},
   "outputs": [],
   "source": [
    "enter_time= pd.read_csv('~/shared/problem1-auth_data.csv', sep=';')\n",
    "enter_time['auth_ts'] = pd.to_datetime(enter_time['auth_ts'], unit = 's')\n",
    "enter_time['activity_date'] = enter_time['auth_ts'].dt.date"
   ]
  },
  {
   "cell_type": "code",
   "execution_count": 5,
   "metadata": {},
   "outputs": [
    {
     "name": "stdout",
     "output_type": "stream",
     "text": [
      "reg_ts        0\n",
      "uid           0\n",
      "start_date    0\n",
      "dtype: int64\n",
      "auth_ts          0\n",
      "uid              0\n",
      "activity_date    0\n",
      "dtype: int64\n"
     ]
    }
   ],
   "source": [
    "print(reg_time.isna().sum())\n",
    "print(enter_time.isna().sum())"
   ]
  },
  {
   "cell_type": "markdown",
   "metadata": {},
   "source": [
    "В исходных данных **отсутствуют пропуски**."
   ]
  },
  {
   "cell_type": "code",
   "execution_count": 6,
   "metadata": {},
   "outputs": [
    {
     "name": "stdout",
     "output_type": "stream",
     "text": [
      "Empty DataFrame\n",
      "Columns: [reg_ts, uid, start_date]\n",
      "Index: []\n",
      "Empty DataFrame\n",
      "Columns: [auth_ts, uid, activity_date]\n",
      "Index: []\n"
     ]
    }
   ],
   "source": [
    "reg_time_duplicates = reg_time[reg_time.duplicated()]\n",
    "print(reg_time_duplicates)\n",
    "\n",
    "enter_time_duplicates = enter_time[enter_time.duplicated()]\n",
    "print(enter_time_duplicates)"
   ]
  },
  {
   "cell_type": "markdown",
   "metadata": {},
   "source": [
    "В исходных данных **отсутствуют дублирующиеся строки**."
   ]
  },
  {
   "cell_type": "code",
   "execution_count": 5,
   "metadata": {},
   "outputs": [
    {
     "name": "stdout",
     "output_type": "stream",
     "text": [
      "test_reg_time shape:(1000000, 3)\n",
      "test_enter_time shape:(9601013, 3)\n"
     ]
    }
   ],
   "source": [
    "print(f'test_reg_time shape:{reg_time.shape}')\n",
    "print(f'test_enter_time shape:{enter_time.shape}')\n"
   ]
  },
  {
   "cell_type": "code",
   "execution_count": 26,
   "metadata": {},
   "outputs": [
    {
     "name": "stdout",
     "output_type": "stream",
     "text": [
      "Unique users in reg_time:2874\n",
      "Unique users in enter_time:2874\n"
     ]
    }
   ],
   "source": [
    "print(f'Unique users in reg_time:{reg_time.uid.nunique()}')\n",
    "print(f'Unique users in enter_time:{enter_time.uid.nunique()}')"
   ]
  },
  {
   "cell_type": "code",
   "execution_count": 11,
   "metadata": {},
   "outputs": [],
   "source": [
    "def count_ret_rate(reg_time, enter_time, start_date, end_date):\n",
    "    reg_time['reg_ts'] = pd.to_datetime(reg_time['reg_ts'], unit = 's')\n",
    "    reg_time['start_date'] = reg_time['reg_ts'].dt.date\n",
    "    \n",
    "    enter_time['auth_ts'] = pd.to_datetime(enter_time['auth_ts'], unit = 's')\n",
    "    enter_time['activity_date'] = enter_time['auth_ts'].dt.date\n",
    "    \n",
    "    start_and_activ = pd.merge(reg_time, enter_time, on = 'uid', how='inner')\n",
    "    #подсчёт числа дней, прошедших с момента регистрации в приложении до целевого действия\n",
    "    #результат запишем в колонку 'days_since_start'\n",
    "    start_and_activ['days_since_start'] = (start_and_activ['auth_ts'] - start_and_activ['reg_ts'])\\\n",
    "    .astype('timedelta64[D]').astype('int')\n",
    "    \n",
    "    #переводим строки дат в тип данных 'datetime' для выполнения среза\n",
    "    start = pd.to_datetime(start_date).date()\n",
    "    end = pd.to_datetime(end_date).date()\n",
    "\n",
    "    #выполним когортный анализ, где в качестве когорт будем использовать даты регистрации\n",
    "    #для каждой даты отобразим количество уникальных посетителей в таблице cohort_table,\n",
    "    #а также посчитаем метрику retention за 25 дней\n",
    "    cohort_table = start_and_activ.groupby(['days_since_start', 'start_date'], as_index = False) \\\n",
    "    .agg({'uid':'nunique'}) \\\n",
    "    .pivot(index='start_date', columns='days_since_start', values='uid')[start : end]\n",
    "\n",
    "\n",
    "\n",
    "    base_month = cohort_table[0]    \n",
    "    retention_cohort =  cohort_table.divide(base_month, axis = 0).round(3)\n",
    "    \n",
    "    plt.figure(figsize=(18,14))\n",
    "    plt.title('Retention Table')\n",
    "    ax = sns.heatmap(data=retention_cohort.iloc[:,:25], annot = True, fmt='.0%', vmin = 0.0, vmax = 1,cmap='Reds')\n",
    "    ax.set_yticklabels(retention_cohort.index)\n",
    "    fig = ax.get_figure()\n",
    "    \n",
    "    return cohort_table.iloc[:, :25] "
   ]
  },
  {
   "cell_type": "code",
   "execution_count": 12,
   "metadata": {},
   "outputs": [
    {
     "data": {
      "text/html": [
       "<div>\n",
       "<style scoped>\n",
       "    .dataframe tbody tr th:only-of-type {\n",
       "        vertical-align: middle;\n",
       "    }\n",
       "\n",
       "    .dataframe tbody tr th {\n",
       "        vertical-align: top;\n",
       "    }\n",
       "\n",
       "    .dataframe thead th {\n",
       "        text-align: right;\n",
       "    }\n",
       "</style>\n",
       "<table border=\"1\" class=\"dataframe\">\n",
       "  <thead>\n",
       "    <tr style=\"text-align: right;\">\n",
       "      <th>days_since_start</th>\n",
       "      <th>0</th>\n",
       "      <th>1</th>\n",
       "      <th>2</th>\n",
       "      <th>3</th>\n",
       "      <th>4</th>\n",
       "      <th>5</th>\n",
       "      <th>6</th>\n",
       "      <th>7</th>\n",
       "      <th>8</th>\n",
       "      <th>9</th>\n",
       "      <th>...</th>\n",
       "      <th>15</th>\n",
       "      <th>16</th>\n",
       "      <th>17</th>\n",
       "      <th>18</th>\n",
       "      <th>19</th>\n",
       "      <th>20</th>\n",
       "      <th>21</th>\n",
       "      <th>22</th>\n",
       "      <th>23</th>\n",
       "      <th>24</th>\n",
       "    </tr>\n",
       "    <tr>\n",
       "      <th>start_date</th>\n",
       "      <th></th>\n",
       "      <th></th>\n",
       "      <th></th>\n",
       "      <th></th>\n",
       "      <th></th>\n",
       "      <th></th>\n",
       "      <th></th>\n",
       "      <th></th>\n",
       "      <th></th>\n",
       "      <th></th>\n",
       "      <th></th>\n",
       "      <th></th>\n",
       "      <th></th>\n",
       "      <th></th>\n",
       "      <th></th>\n",
       "      <th></th>\n",
       "      <th></th>\n",
       "      <th></th>\n",
       "      <th></th>\n",
       "      <th></th>\n",
       "      <th></th>\n",
       "    </tr>\n",
       "  </thead>\n",
       "  <tbody>\n",
       "    <tr>\n",
       "      <th>2020-09-01</th>\n",
       "      <td>1586.0</td>\n",
       "      <td>54.0</td>\n",
       "      <td>79.0</td>\n",
       "      <td>77.0</td>\n",
       "      <td>82.0</td>\n",
       "      <td>83.0</td>\n",
       "      <td>125.0</td>\n",
       "      <td>64.0</td>\n",
       "      <td>78.0</td>\n",
       "      <td>75.0</td>\n",
       "      <td>...</td>\n",
       "      <td>70.0</td>\n",
       "      <td>80.0</td>\n",
       "      <td>68.0</td>\n",
       "      <td>75.0</td>\n",
       "      <td>50.0</td>\n",
       "      <td>64.0</td>\n",
       "      <td>54.0</td>\n",
       "      <td>8.0</td>\n",
       "      <td>NaN</td>\n",
       "      <td>NaN</td>\n",
       "    </tr>\n",
       "    <tr>\n",
       "      <th>2020-09-02</th>\n",
       "      <td>1588.0</td>\n",
       "      <td>72.0</td>\n",
       "      <td>64.0</td>\n",
       "      <td>87.0</td>\n",
       "      <td>97.0</td>\n",
       "      <td>103.0</td>\n",
       "      <td>120.0</td>\n",
       "      <td>75.0</td>\n",
       "      <td>66.0</td>\n",
       "      <td>78.0</td>\n",
       "      <td>...</td>\n",
       "      <td>65.0</td>\n",
       "      <td>86.0</td>\n",
       "      <td>60.0</td>\n",
       "      <td>62.0</td>\n",
       "      <td>72.0</td>\n",
       "      <td>60.0</td>\n",
       "      <td>13.0</td>\n",
       "      <td>NaN</td>\n",
       "      <td>NaN</td>\n",
       "      <td>NaN</td>\n",
       "    </tr>\n",
       "    <tr>\n",
       "      <th>2020-09-03</th>\n",
       "      <td>1591.0</td>\n",
       "      <td>76.0</td>\n",
       "      <td>88.0</td>\n",
       "      <td>89.0</td>\n",
       "      <td>95.0</td>\n",
       "      <td>128.0</td>\n",
       "      <td>136.0</td>\n",
       "      <td>77.0</td>\n",
       "      <td>101.0</td>\n",
       "      <td>97.0</td>\n",
       "      <td>...</td>\n",
       "      <td>85.0</td>\n",
       "      <td>71.0</td>\n",
       "      <td>79.0</td>\n",
       "      <td>83.0</td>\n",
       "      <td>66.0</td>\n",
       "      <td>11.0</td>\n",
       "      <td>NaN</td>\n",
       "      <td>NaN</td>\n",
       "      <td>NaN</td>\n",
       "      <td>NaN</td>\n",
       "    </tr>\n",
       "    <tr>\n",
       "      <th>2020-09-04</th>\n",
       "      <td>1593.0</td>\n",
       "      <td>61.0</td>\n",
       "      <td>65.0</td>\n",
       "      <td>66.0</td>\n",
       "      <td>79.0</td>\n",
       "      <td>118.0</td>\n",
       "      <td>121.0</td>\n",
       "      <td>62.0</td>\n",
       "      <td>71.0</td>\n",
       "      <td>77.0</td>\n",
       "      <td>...</td>\n",
       "      <td>68.0</td>\n",
       "      <td>77.0</td>\n",
       "      <td>70.0</td>\n",
       "      <td>65.0</td>\n",
       "      <td>13.0</td>\n",
       "      <td>NaN</td>\n",
       "      <td>NaN</td>\n",
       "      <td>NaN</td>\n",
       "      <td>NaN</td>\n",
       "      <td>NaN</td>\n",
       "    </tr>\n",
       "    <tr>\n",
       "      <th>2020-09-05</th>\n",
       "      <td>1596.0</td>\n",
       "      <td>78.0</td>\n",
       "      <td>64.0</td>\n",
       "      <td>81.0</td>\n",
       "      <td>85.0</td>\n",
       "      <td>118.0</td>\n",
       "      <td>109.0</td>\n",
       "      <td>65.0</td>\n",
       "      <td>85.0</td>\n",
       "      <td>90.0</td>\n",
       "      <td>...</td>\n",
       "      <td>73.0</td>\n",
       "      <td>83.0</td>\n",
       "      <td>58.0</td>\n",
       "      <td>14.0</td>\n",
       "      <td>NaN</td>\n",
       "      <td>NaN</td>\n",
       "      <td>NaN</td>\n",
       "      <td>NaN</td>\n",
       "      <td>NaN</td>\n",
       "      <td>NaN</td>\n",
       "    </tr>\n",
       "    <tr>\n",
       "      <th>2020-09-06</th>\n",
       "      <td>1599.0</td>\n",
       "      <td>79.0</td>\n",
       "      <td>77.0</td>\n",
       "      <td>88.0</td>\n",
       "      <td>90.0</td>\n",
       "      <td>97.0</td>\n",
       "      <td>125.0</td>\n",
       "      <td>81.0</td>\n",
       "      <td>101.0</td>\n",
       "      <td>77.0</td>\n",
       "      <td>...</td>\n",
       "      <td>74.0</td>\n",
       "      <td>61.0</td>\n",
       "      <td>17.0</td>\n",
       "      <td>NaN</td>\n",
       "      <td>NaN</td>\n",
       "      <td>NaN</td>\n",
       "      <td>NaN</td>\n",
       "      <td>NaN</td>\n",
       "      <td>NaN</td>\n",
       "      <td>NaN</td>\n",
       "    </tr>\n",
       "    <tr>\n",
       "      <th>2020-09-07</th>\n",
       "      <td>1601.0</td>\n",
       "      <td>83.0</td>\n",
       "      <td>70.0</td>\n",
       "      <td>80.0</td>\n",
       "      <td>101.0</td>\n",
       "      <td>109.0</td>\n",
       "      <td>105.0</td>\n",
       "      <td>64.0</td>\n",
       "      <td>80.0</td>\n",
       "      <td>97.0</td>\n",
       "      <td>...</td>\n",
       "      <td>79.0</td>\n",
       "      <td>21.0</td>\n",
       "      <td>NaN</td>\n",
       "      <td>NaN</td>\n",
       "      <td>NaN</td>\n",
       "      <td>NaN</td>\n",
       "      <td>NaN</td>\n",
       "      <td>NaN</td>\n",
       "      <td>NaN</td>\n",
       "      <td>NaN</td>\n",
       "    </tr>\n",
       "    <tr>\n",
       "      <th>2020-09-08</th>\n",
       "      <td>1604.0</td>\n",
       "      <td>63.0</td>\n",
       "      <td>58.0</td>\n",
       "      <td>74.0</td>\n",
       "      <td>92.0</td>\n",
       "      <td>124.0</td>\n",
       "      <td>139.0</td>\n",
       "      <td>72.0</td>\n",
       "      <td>84.0</td>\n",
       "      <td>88.0</td>\n",
       "      <td>...</td>\n",
       "      <td>18.0</td>\n",
       "      <td>NaN</td>\n",
       "      <td>NaN</td>\n",
       "      <td>NaN</td>\n",
       "      <td>NaN</td>\n",
       "      <td>NaN</td>\n",
       "      <td>NaN</td>\n",
       "      <td>NaN</td>\n",
       "      <td>NaN</td>\n",
       "      <td>NaN</td>\n",
       "    </tr>\n",
       "    <tr>\n",
       "      <th>2020-09-09</th>\n",
       "      <td>1607.0</td>\n",
       "      <td>47.0</td>\n",
       "      <td>66.0</td>\n",
       "      <td>84.0</td>\n",
       "      <td>106.0</td>\n",
       "      <td>95.0</td>\n",
       "      <td>107.0</td>\n",
       "      <td>75.0</td>\n",
       "      <td>67.0</td>\n",
       "      <td>77.0</td>\n",
       "      <td>...</td>\n",
       "      <td>NaN</td>\n",
       "      <td>NaN</td>\n",
       "      <td>NaN</td>\n",
       "      <td>NaN</td>\n",
       "      <td>NaN</td>\n",
       "      <td>NaN</td>\n",
       "      <td>NaN</td>\n",
       "      <td>NaN</td>\n",
       "      <td>NaN</td>\n",
       "      <td>NaN</td>\n",
       "    </tr>\n",
       "    <tr>\n",
       "      <th>2020-09-10</th>\n",
       "      <td>1609.0</td>\n",
       "      <td>69.0</td>\n",
       "      <td>64.0</td>\n",
       "      <td>78.0</td>\n",
       "      <td>94.0</td>\n",
       "      <td>107.0</td>\n",
       "      <td>114.0</td>\n",
       "      <td>85.0</td>\n",
       "      <td>71.0</td>\n",
       "      <td>86.0</td>\n",
       "      <td>...</td>\n",
       "      <td>NaN</td>\n",
       "      <td>NaN</td>\n",
       "      <td>NaN</td>\n",
       "      <td>NaN</td>\n",
       "      <td>NaN</td>\n",
       "      <td>NaN</td>\n",
       "      <td>NaN</td>\n",
       "      <td>NaN</td>\n",
       "      <td>NaN</td>\n",
       "      <td>NaN</td>\n",
       "    </tr>\n",
       "    <tr>\n",
       "      <th>2020-09-11</th>\n",
       "      <td>1612.0</td>\n",
       "      <td>49.0</td>\n",
       "      <td>70.0</td>\n",
       "      <td>89.0</td>\n",
       "      <td>90.0</td>\n",
       "      <td>85.0</td>\n",
       "      <td>137.0</td>\n",
       "      <td>68.0</td>\n",
       "      <td>69.0</td>\n",
       "      <td>81.0</td>\n",
       "      <td>...</td>\n",
       "      <td>NaN</td>\n",
       "      <td>NaN</td>\n",
       "      <td>NaN</td>\n",
       "      <td>NaN</td>\n",
       "      <td>NaN</td>\n",
       "      <td>NaN</td>\n",
       "      <td>NaN</td>\n",
       "      <td>NaN</td>\n",
       "      <td>NaN</td>\n",
       "      <td>NaN</td>\n",
       "    </tr>\n",
       "    <tr>\n",
       "      <th>2020-09-12</th>\n",
       "      <td>1614.0</td>\n",
       "      <td>57.0</td>\n",
       "      <td>79.0</td>\n",
       "      <td>68.0</td>\n",
       "      <td>91.0</td>\n",
       "      <td>96.0</td>\n",
       "      <td>119.0</td>\n",
       "      <td>68.0</td>\n",
       "      <td>89.0</td>\n",
       "      <td>88.0</td>\n",
       "      <td>...</td>\n",
       "      <td>NaN</td>\n",
       "      <td>NaN</td>\n",
       "      <td>NaN</td>\n",
       "      <td>NaN</td>\n",
       "      <td>NaN</td>\n",
       "      <td>NaN</td>\n",
       "      <td>NaN</td>\n",
       "      <td>NaN</td>\n",
       "      <td>NaN</td>\n",
       "      <td>NaN</td>\n",
       "    </tr>\n",
       "    <tr>\n",
       "      <th>2020-09-13</th>\n",
       "      <td>1618.0</td>\n",
       "      <td>65.0</td>\n",
       "      <td>64.0</td>\n",
       "      <td>75.0</td>\n",
       "      <td>99.0</td>\n",
       "      <td>103.0</td>\n",
       "      <td>97.0</td>\n",
       "      <td>82.0</td>\n",
       "      <td>68.0</td>\n",
       "      <td>82.0</td>\n",
       "      <td>...</td>\n",
       "      <td>NaN</td>\n",
       "      <td>NaN</td>\n",
       "      <td>NaN</td>\n",
       "      <td>NaN</td>\n",
       "      <td>NaN</td>\n",
       "      <td>NaN</td>\n",
       "      <td>NaN</td>\n",
       "      <td>NaN</td>\n",
       "      <td>NaN</td>\n",
       "      <td>NaN</td>\n",
       "    </tr>\n",
       "    <tr>\n",
       "      <th>2020-09-14</th>\n",
       "      <td>1619.0</td>\n",
       "      <td>71.0</td>\n",
       "      <td>64.0</td>\n",
       "      <td>72.0</td>\n",
       "      <td>101.0</td>\n",
       "      <td>105.0</td>\n",
       "      <td>124.0</td>\n",
       "      <td>81.0</td>\n",
       "      <td>61.0</td>\n",
       "      <td>17.0</td>\n",
       "      <td>...</td>\n",
       "      <td>NaN</td>\n",
       "      <td>NaN</td>\n",
       "      <td>NaN</td>\n",
       "      <td>NaN</td>\n",
       "      <td>NaN</td>\n",
       "      <td>NaN</td>\n",
       "      <td>NaN</td>\n",
       "      <td>NaN</td>\n",
       "      <td>NaN</td>\n",
       "      <td>NaN</td>\n",
       "    </tr>\n",
       "    <tr>\n",
       "      <th>2020-09-15</th>\n",
       "      <td>1623.0</td>\n",
       "      <td>76.0</td>\n",
       "      <td>60.0</td>\n",
       "      <td>94.0</td>\n",
       "      <td>84.0</td>\n",
       "      <td>97.0</td>\n",
       "      <td>126.0</td>\n",
       "      <td>62.0</td>\n",
       "      <td>10.0</td>\n",
       "      <td>NaN</td>\n",
       "      <td>...</td>\n",
       "      <td>NaN</td>\n",
       "      <td>NaN</td>\n",
       "      <td>NaN</td>\n",
       "      <td>NaN</td>\n",
       "      <td>NaN</td>\n",
       "      <td>NaN</td>\n",
       "      <td>NaN</td>\n",
       "      <td>NaN</td>\n",
       "      <td>NaN</td>\n",
       "      <td>NaN</td>\n",
       "    </tr>\n",
       "    <tr>\n",
       "      <th>2020-09-16</th>\n",
       "      <td>1625.0</td>\n",
       "      <td>67.0</td>\n",
       "      <td>61.0</td>\n",
       "      <td>76.0</td>\n",
       "      <td>103.0</td>\n",
       "      <td>115.0</td>\n",
       "      <td>96.0</td>\n",
       "      <td>11.0</td>\n",
       "      <td>NaN</td>\n",
       "      <td>NaN</td>\n",
       "      <td>...</td>\n",
       "      <td>NaN</td>\n",
       "      <td>NaN</td>\n",
       "      <td>NaN</td>\n",
       "      <td>NaN</td>\n",
       "      <td>NaN</td>\n",
       "      <td>NaN</td>\n",
       "      <td>NaN</td>\n",
       "      <td>NaN</td>\n",
       "      <td>NaN</td>\n",
       "      <td>NaN</td>\n",
       "    </tr>\n",
       "    <tr>\n",
       "      <th>2020-09-17</th>\n",
       "      <td>1628.0</td>\n",
       "      <td>62.0</td>\n",
       "      <td>67.0</td>\n",
       "      <td>84.0</td>\n",
       "      <td>96.0</td>\n",
       "      <td>94.0</td>\n",
       "      <td>28.0</td>\n",
       "      <td>NaN</td>\n",
       "      <td>NaN</td>\n",
       "      <td>NaN</td>\n",
       "      <td>...</td>\n",
       "      <td>NaN</td>\n",
       "      <td>NaN</td>\n",
       "      <td>NaN</td>\n",
       "      <td>NaN</td>\n",
       "      <td>NaN</td>\n",
       "      <td>NaN</td>\n",
       "      <td>NaN</td>\n",
       "      <td>NaN</td>\n",
       "      <td>NaN</td>\n",
       "      <td>NaN</td>\n",
       "    </tr>\n",
       "    <tr>\n",
       "      <th>2020-09-18</th>\n",
       "      <td>1630.0</td>\n",
       "      <td>69.0</td>\n",
       "      <td>63.0</td>\n",
       "      <td>91.0</td>\n",
       "      <td>77.0</td>\n",
       "      <td>20.0</td>\n",
       "      <td>NaN</td>\n",
       "      <td>NaN</td>\n",
       "      <td>NaN</td>\n",
       "      <td>NaN</td>\n",
       "      <td>...</td>\n",
       "      <td>NaN</td>\n",
       "      <td>NaN</td>\n",
       "      <td>NaN</td>\n",
       "      <td>NaN</td>\n",
       "      <td>NaN</td>\n",
       "      <td>NaN</td>\n",
       "      <td>NaN</td>\n",
       "      <td>NaN</td>\n",
       "      <td>NaN</td>\n",
       "      <td>NaN</td>\n",
       "    </tr>\n",
       "    <tr>\n",
       "      <th>2020-09-19</th>\n",
       "      <td>1634.0</td>\n",
       "      <td>62.0</td>\n",
       "      <td>61.0</td>\n",
       "      <td>78.0</td>\n",
       "      <td>21.0</td>\n",
       "      <td>NaN</td>\n",
       "      <td>NaN</td>\n",
       "      <td>NaN</td>\n",
       "      <td>NaN</td>\n",
       "      <td>NaN</td>\n",
       "      <td>...</td>\n",
       "      <td>NaN</td>\n",
       "      <td>NaN</td>\n",
       "      <td>NaN</td>\n",
       "      <td>NaN</td>\n",
       "      <td>NaN</td>\n",
       "      <td>NaN</td>\n",
       "      <td>NaN</td>\n",
       "      <td>NaN</td>\n",
       "      <td>NaN</td>\n",
       "      <td>NaN</td>\n",
       "    </tr>\n",
       "    <tr>\n",
       "      <th>2020-09-20</th>\n",
       "      <td>1636.0</td>\n",
       "      <td>71.0</td>\n",
       "      <td>61.0</td>\n",
       "      <td>18.0</td>\n",
       "      <td>NaN</td>\n",
       "      <td>NaN</td>\n",
       "      <td>NaN</td>\n",
       "      <td>NaN</td>\n",
       "      <td>NaN</td>\n",
       "      <td>NaN</td>\n",
       "      <td>...</td>\n",
       "      <td>NaN</td>\n",
       "      <td>NaN</td>\n",
       "      <td>NaN</td>\n",
       "      <td>NaN</td>\n",
       "      <td>NaN</td>\n",
       "      <td>NaN</td>\n",
       "      <td>NaN</td>\n",
       "      <td>NaN</td>\n",
       "      <td>NaN</td>\n",
       "      <td>NaN</td>\n",
       "    </tr>\n",
       "    <tr>\n",
       "      <th>2020-09-21</th>\n",
       "      <td>1638.0</td>\n",
       "      <td>68.0</td>\n",
       "      <td>12.0</td>\n",
       "      <td>NaN</td>\n",
       "      <td>NaN</td>\n",
       "      <td>NaN</td>\n",
       "      <td>NaN</td>\n",
       "      <td>NaN</td>\n",
       "      <td>NaN</td>\n",
       "      <td>NaN</td>\n",
       "      <td>...</td>\n",
       "      <td>NaN</td>\n",
       "      <td>NaN</td>\n",
       "      <td>NaN</td>\n",
       "      <td>NaN</td>\n",
       "      <td>NaN</td>\n",
       "      <td>NaN</td>\n",
       "      <td>NaN</td>\n",
       "      <td>NaN</td>\n",
       "      <td>NaN</td>\n",
       "      <td>NaN</td>\n",
       "    </tr>\n",
       "    <tr>\n",
       "      <th>2020-09-22</th>\n",
       "      <td>1641.0</td>\n",
       "      <td>14.0</td>\n",
       "      <td>NaN</td>\n",
       "      <td>NaN</td>\n",
       "      <td>NaN</td>\n",
       "      <td>NaN</td>\n",
       "      <td>NaN</td>\n",
       "      <td>NaN</td>\n",
       "      <td>NaN</td>\n",
       "      <td>NaN</td>\n",
       "      <td>...</td>\n",
       "      <td>NaN</td>\n",
       "      <td>NaN</td>\n",
       "      <td>NaN</td>\n",
       "      <td>NaN</td>\n",
       "      <td>NaN</td>\n",
       "      <td>NaN</td>\n",
       "      <td>NaN</td>\n",
       "      <td>NaN</td>\n",
       "      <td>NaN</td>\n",
       "      <td>NaN</td>\n",
       "    </tr>\n",
       "    <tr>\n",
       "      <th>2020-09-23</th>\n",
       "      <td>1048.0</td>\n",
       "      <td>NaN</td>\n",
       "      <td>NaN</td>\n",
       "      <td>NaN</td>\n",
       "      <td>NaN</td>\n",
       "      <td>NaN</td>\n",
       "      <td>NaN</td>\n",
       "      <td>NaN</td>\n",
       "      <td>NaN</td>\n",
       "      <td>NaN</td>\n",
       "      <td>...</td>\n",
       "      <td>NaN</td>\n",
       "      <td>NaN</td>\n",
       "      <td>NaN</td>\n",
       "      <td>NaN</td>\n",
       "      <td>NaN</td>\n",
       "      <td>NaN</td>\n",
       "      <td>NaN</td>\n",
       "      <td>NaN</td>\n",
       "      <td>NaN</td>\n",
       "      <td>NaN</td>\n",
       "    </tr>\n",
       "  </tbody>\n",
       "</table>\n",
       "<p>23 rows × 25 columns</p>\n",
       "</div>"
      ],
      "text/plain": [
       "days_since_start      0     1     2     3      4      5      6     7      8   \\\n",
       "start_date                                                                     \n",
       "2020-09-01        1586.0  54.0  79.0  77.0   82.0   83.0  125.0  64.0   78.0   \n",
       "2020-09-02        1588.0  72.0  64.0  87.0   97.0  103.0  120.0  75.0   66.0   \n",
       "2020-09-03        1591.0  76.0  88.0  89.0   95.0  128.0  136.0  77.0  101.0   \n",
       "2020-09-04        1593.0  61.0  65.0  66.0   79.0  118.0  121.0  62.0   71.0   \n",
       "2020-09-05        1596.0  78.0  64.0  81.0   85.0  118.0  109.0  65.0   85.0   \n",
       "2020-09-06        1599.0  79.0  77.0  88.0   90.0   97.0  125.0  81.0  101.0   \n",
       "2020-09-07        1601.0  83.0  70.0  80.0  101.0  109.0  105.0  64.0   80.0   \n",
       "2020-09-08        1604.0  63.0  58.0  74.0   92.0  124.0  139.0  72.0   84.0   \n",
       "2020-09-09        1607.0  47.0  66.0  84.0  106.0   95.0  107.0  75.0   67.0   \n",
       "2020-09-10        1609.0  69.0  64.0  78.0   94.0  107.0  114.0  85.0   71.0   \n",
       "2020-09-11        1612.0  49.0  70.0  89.0   90.0   85.0  137.0  68.0   69.0   \n",
       "2020-09-12        1614.0  57.0  79.0  68.0   91.0   96.0  119.0  68.0   89.0   \n",
       "2020-09-13        1618.0  65.0  64.0  75.0   99.0  103.0   97.0  82.0   68.0   \n",
       "2020-09-14        1619.0  71.0  64.0  72.0  101.0  105.0  124.0  81.0   61.0   \n",
       "2020-09-15        1623.0  76.0  60.0  94.0   84.0   97.0  126.0  62.0   10.0   \n",
       "2020-09-16        1625.0  67.0  61.0  76.0  103.0  115.0   96.0  11.0    NaN   \n",
       "2020-09-17        1628.0  62.0  67.0  84.0   96.0   94.0   28.0   NaN    NaN   \n",
       "2020-09-18        1630.0  69.0  63.0  91.0   77.0   20.0    NaN   NaN    NaN   \n",
       "2020-09-19        1634.0  62.0  61.0  78.0   21.0    NaN    NaN   NaN    NaN   \n",
       "2020-09-20        1636.0  71.0  61.0  18.0    NaN    NaN    NaN   NaN    NaN   \n",
       "2020-09-21        1638.0  68.0  12.0   NaN    NaN    NaN    NaN   NaN    NaN   \n",
       "2020-09-22        1641.0  14.0   NaN   NaN    NaN    NaN    NaN   NaN    NaN   \n",
       "2020-09-23        1048.0   NaN   NaN   NaN    NaN    NaN    NaN   NaN    NaN   \n",
       "\n",
       "days_since_start    9   ...    15    16    17    18    19    20    21   22  \\\n",
       "start_date              ...                                                  \n",
       "2020-09-01        75.0  ...  70.0  80.0  68.0  75.0  50.0  64.0  54.0  8.0   \n",
       "2020-09-02        78.0  ...  65.0  86.0  60.0  62.0  72.0  60.0  13.0  NaN   \n",
       "2020-09-03        97.0  ...  85.0  71.0  79.0  83.0  66.0  11.0   NaN  NaN   \n",
       "2020-09-04        77.0  ...  68.0  77.0  70.0  65.0  13.0   NaN   NaN  NaN   \n",
       "2020-09-05        90.0  ...  73.0  83.0  58.0  14.0   NaN   NaN   NaN  NaN   \n",
       "2020-09-06        77.0  ...  74.0  61.0  17.0   NaN   NaN   NaN   NaN  NaN   \n",
       "2020-09-07        97.0  ...  79.0  21.0   NaN   NaN   NaN   NaN   NaN  NaN   \n",
       "2020-09-08        88.0  ...  18.0   NaN   NaN   NaN   NaN   NaN   NaN  NaN   \n",
       "2020-09-09        77.0  ...   NaN   NaN   NaN   NaN   NaN   NaN   NaN  NaN   \n",
       "2020-09-10        86.0  ...   NaN   NaN   NaN   NaN   NaN   NaN   NaN  NaN   \n",
       "2020-09-11        81.0  ...   NaN   NaN   NaN   NaN   NaN   NaN   NaN  NaN   \n",
       "2020-09-12        88.0  ...   NaN   NaN   NaN   NaN   NaN   NaN   NaN  NaN   \n",
       "2020-09-13        82.0  ...   NaN   NaN   NaN   NaN   NaN   NaN   NaN  NaN   \n",
       "2020-09-14        17.0  ...   NaN   NaN   NaN   NaN   NaN   NaN   NaN  NaN   \n",
       "2020-09-15         NaN  ...   NaN   NaN   NaN   NaN   NaN   NaN   NaN  NaN   \n",
       "2020-09-16         NaN  ...   NaN   NaN   NaN   NaN   NaN   NaN   NaN  NaN   \n",
       "2020-09-17         NaN  ...   NaN   NaN   NaN   NaN   NaN   NaN   NaN  NaN   \n",
       "2020-09-18         NaN  ...   NaN   NaN   NaN   NaN   NaN   NaN   NaN  NaN   \n",
       "2020-09-19         NaN  ...   NaN   NaN   NaN   NaN   NaN   NaN   NaN  NaN   \n",
       "2020-09-20         NaN  ...   NaN   NaN   NaN   NaN   NaN   NaN   NaN  NaN   \n",
       "2020-09-21         NaN  ...   NaN   NaN   NaN   NaN   NaN   NaN   NaN  NaN   \n",
       "2020-09-22         NaN  ...   NaN   NaN   NaN   NaN   NaN   NaN   NaN  NaN   \n",
       "2020-09-23         NaN  ...   NaN   NaN   NaN   NaN   NaN   NaN   NaN  NaN   \n",
       "\n",
       "days_since_start  23  24  \n",
       "start_date                \n",
       "2020-09-01       NaN NaN  \n",
       "2020-09-02       NaN NaN  \n",
       "2020-09-03       NaN NaN  \n",
       "2020-09-04       NaN NaN  \n",
       "2020-09-05       NaN NaN  \n",
       "2020-09-06       NaN NaN  \n",
       "2020-09-07       NaN NaN  \n",
       "2020-09-08       NaN NaN  \n",
       "2020-09-09       NaN NaN  \n",
       "2020-09-10       NaN NaN  \n",
       "2020-09-11       NaN NaN  \n",
       "2020-09-12       NaN NaN  \n",
       "2020-09-13       NaN NaN  \n",
       "2020-09-14       NaN NaN  \n",
       "2020-09-15       NaN NaN  \n",
       "2020-09-16       NaN NaN  \n",
       "2020-09-17       NaN NaN  \n",
       "2020-09-18       NaN NaN  \n",
       "2020-09-19       NaN NaN  \n",
       "2020-09-20       NaN NaN  \n",
       "2020-09-21       NaN NaN  \n",
       "2020-09-22       NaN NaN  \n",
       "2020-09-23       NaN NaN  \n",
       "\n",
       "[23 rows x 25 columns]"
      ]
     },
     "execution_count": 12,
     "metadata": {},
     "output_type": "execute_result"
    },
    {
     "data": {
      "image/png": "[encoded data removed]",
      "text/plain": [
       "<Figure size 1296x1008 with 2 Axes>"
      ]
     },
     "metadata": {
      "needs_background": "light"
     },
     "output_type": "display_data"
    }
   ],
   "source": [
    "count_ret_rate(reg_time, enter_time, '2020-09-01','2020-09-23')"
   ]
  },
  {
   "cell_type": "markdown",
   "metadata": {},
   "source": [
    "## Задание №2 \n",
    "Проведение A/B теста для проверки гипотезы о выгодности внедрения акционных предложений для геймеров."
   ]
  },
  {
   "cell_type": "code",
   "execution_count": 3,
   "metadata": {},
   "outputs": [
    {
     "data": {
      "text/html": [
       "<div>\n",
       "<style scoped>\n",
       "    .dataframe tbody tr th:only-of-type {\n",
       "        vertical-align: middle;\n",
       "    }\n",
       "\n",
       "    .dataframe tbody tr th {\n",
       "        vertical-align: top;\n",
       "    }\n",
       "\n",
       "    .dataframe thead th {\n",
       "        text-align: right;\n",
       "    }\n",
       "</style>\n",
       "<table border=\"1\" class=\"dataframe\">\n",
       "  <thead>\n",
       "    <tr style=\"text-align: right;\">\n",
       "      <th></th>\n",
       "      <th>user_id</th>\n",
       "      <th>revenue</th>\n",
       "      <th>testgroup</th>\n",
       "    </tr>\n",
       "  </thead>\n",
       "  <tbody>\n",
       "    <tr>\n",
       "      <th>0</th>\n",
       "      <td>1</td>\n",
       "      <td>0</td>\n",
       "      <td>b</td>\n",
       "    </tr>\n",
       "    <tr>\n",
       "      <th>1</th>\n",
       "      <td>2</td>\n",
       "      <td>0</td>\n",
       "      <td>a</td>\n",
       "    </tr>\n",
       "    <tr>\n",
       "      <th>2</th>\n",
       "      <td>3</td>\n",
       "      <td>0</td>\n",
       "      <td>a</td>\n",
       "    </tr>\n",
       "    <tr>\n",
       "      <th>3</th>\n",
       "      <td>4</td>\n",
       "      <td>0</td>\n",
       "      <td>b</td>\n",
       "    </tr>\n",
       "    <tr>\n",
       "      <th>4</th>\n",
       "      <td>5</td>\n",
       "      <td>0</td>\n",
       "      <td>b</td>\n",
       "    </tr>\n",
       "  </tbody>\n",
       "</table>\n",
       "</div>"
      ],
      "text/plain": [
       "   user_id  revenue testgroup\n",
       "0        1        0         b\n",
       "1        2        0         a\n",
       "2        3        0         a\n",
       "3        4        0         b\n",
       "4        5        0         b"
      ]
     },
     "execution_count": 3,
     "metadata": {},
     "output_type": "execute_result"
    }
   ],
   "source": [
    "stocks_for_gamers = pd.read_csv('Проект_1_Задание_2.csv', sep = ';')\n",
    "stocks_for_gamers.head()"
   ]
  },
  {
   "cell_type": "code",
   "execution_count": 4,
   "metadata": {},
   "outputs": [
    {
     "name": "stdout",
     "output_type": "stream",
     "text": [
      "<class 'pandas.core.frame.DataFrame'>\n",
      "RangeIndex: 404770 entries, 0 to 404769\n",
      "Data columns (total 3 columns):\n",
      " #   Column     Non-Null Count   Dtype \n",
      "---  ------     --------------   ----- \n",
      " 0   user_id    404770 non-null  int64 \n",
      " 1   revenue    404770 non-null  int64 \n",
      " 2   testgroup  404770 non-null  object\n",
      "dtypes: int64(2), object(1)\n",
      "memory usage: 9.3+ MB\n"
     ]
    }
   ],
   "source": [
    "stocks_for_gamers.info()"
   ]
  },
  {
   "cell_type": "code",
   "execution_count": 5,
   "metadata": {},
   "outputs": [
    {
     "data": {
      "text/plain": [
       "(404770, 3)"
      ]
     },
     "execution_count": 5,
     "metadata": {},
     "output_type": "execute_result"
    }
   ],
   "source": [
    "stocks_for_gamers.shape"
   ]
  },
  {
   "cell_type": "code",
   "execution_count": 6,
   "metadata": {},
   "outputs": [
    {
     "data": {
      "text/plain": [
       "b    202667\n",
       "a    202103\n",
       "Name: testgroup, dtype: int64"
      ]
     },
     "execution_count": 6,
     "metadata": {},
     "output_type": "execute_result"
    }
   ],
   "source": [
    "stocks_for_gamers.testgroup.value_counts()"
   ]
  },
  {
   "cell_type": "markdown",
   "metadata": {},
   "source": [
    "Отсюда делаем вывод, что группа `a` соответствует **контрольной группе**, а группа `b` соответствует **тестовой группе**."
   ]
  },
  {
   "cell_type": "code",
   "execution_count": 7,
   "metadata": {},
   "outputs": [
    {
     "data": {
      "text/html": [
       "<div>\n",
       "<style scoped>\n",
       "    .dataframe tbody tr th:only-of-type {\n",
       "        vertical-align: middle;\n",
       "    }\n",
       "\n",
       "    .dataframe tbody tr th {\n",
       "        vertical-align: top;\n",
       "    }\n",
       "\n",
       "    .dataframe thead th {\n",
       "        text-align: right;\n",
       "    }\n",
       "</style>\n",
       "<table border=\"1\" class=\"dataframe\">\n",
       "  <thead>\n",
       "    <tr style=\"text-align: right;\">\n",
       "      <th></th>\n",
       "      <th>testgroup</th>\n",
       "      <th>revenue</th>\n",
       "    </tr>\n",
       "  </thead>\n",
       "  <tbody>\n",
       "    <tr>\n",
       "      <th>0</th>\n",
       "      <td>a</td>\n",
       "      <td>25.413720</td>\n",
       "    </tr>\n",
       "    <tr>\n",
       "      <th>1</th>\n",
       "      <td>b</td>\n",
       "      <td>26.751287</td>\n",
       "    </tr>\n",
       "  </tbody>\n",
       "</table>\n",
       "</div>"
      ],
      "text/plain": [
       "  testgroup    revenue\n",
       "0         a  25.413720\n",
       "1         b  26.751287"
      ]
     },
     "execution_count": 7,
     "metadata": {},
     "output_type": "execute_result"
    }
   ],
   "source": [
    "stocks_for_gamers.groupby('testgroup').agg({'revenue':'mean'}).reset_index()"
   ]
  },
  {
   "cell_type": "code",
   "execution_count": 4,
   "metadata": {},
   "outputs": [],
   "source": [
    "control_group = stocks_for_gamers[stocks_for_gamers['testgroup'] == 'a']\n",
    "test_group = stocks_for_gamers[stocks_for_gamers['testgroup'] == 'b']"
   ]
  },
  {
   "cell_type": "code",
   "execution_count": 9,
   "metadata": {},
   "outputs": [
    {
     "data": {
      "text/plain": [
       "count    202103.000000\n",
       "mean         25.413720\n",
       "std         920.768137\n",
       "min           0.000000\n",
       "25%           0.000000\n",
       "50%           0.000000\n",
       "75%           0.000000\n",
       "max       37433.000000\n",
       "Name: revenue, dtype: float64"
      ]
     },
     "execution_count": 9,
     "metadata": {},
     "output_type": "execute_result"
    }
   ],
   "source": [
    "control_group.revenue.describe()"
   ]
  },
  {
   "cell_type": "code",
   "execution_count": 10,
   "metadata": {},
   "outputs": [
    {
     "data": {
      "text/plain": [
       "count    202667.000000\n",
       "mean         26.751287\n",
       "std         287.324162\n",
       "min           0.000000\n",
       "25%           0.000000\n",
       "50%           0.000000\n",
       "75%           0.000000\n",
       "max        4000.000000\n",
       "Name: revenue, dtype: float64"
      ]
     },
     "execution_count": 10,
     "metadata": {},
     "output_type": "execute_result"
    }
   ],
   "source": [
    "test_group.revenue.describe()"
   ]
  },
  {
   "cell_type": "markdown",
   "metadata": {},
   "source": [
    "###  ARPU"
   ]
  },
  {
   "cell_type": "markdown",
   "metadata": {},
   "source": [
    "Сравним, насколько стат. значимо отличается показатель  `ARPU` для двух групп:"
   ]
  },
  {
   "cell_type": "code",
   "execution_count": 5,
   "metadata": {},
   "outputs": [
    {
     "data": {
      "text/plain": [
       "<matplotlib.axes._subplots.AxesSubplot at 0x7f0537931748>"
      ]
     },
     "execution_count": 5,
     "metadata": {},
     "output_type": "execute_result"
    },
    {
     "data": {
      "image/png": "[encoded data removed]",
      "text/plain": [
       "<Figure size 432x288 with 1 Axes>"
      ]
     },
     "metadata": {
      "needs_background": "light"
     },
     "output_type": "display_data"
    }
   ],
   "source": [
    "control_group.revenue.hist()"
   ]
  },
  {
   "cell_type": "markdown",
   "metadata": {},
   "source": [
    "Большая часть **ARPU** приходится на промежуток $[0;5000]$. При этом в данных также присутствуют пользователи, приносящие прибыль в районе **30000**, что явно превосходит максимум тестовой группы. Определим отношение числа пользователей, платящих больше **5000** к тем, кто платит меньше **5000**:"
   ]
  },
  {
   "cell_type": "code",
   "execution_count": 6,
   "metadata": {},
   "outputs": [
    {
     "data": {
      "text/plain": [
       "0.0006089711852658679"
      ]
     },
     "execution_count": 6,
     "metadata": {},
     "output_type": "execute_result"
    }
   ],
   "source": [
    "(control_group[control_group['revenue'] > 5000].shape[0]) / (control_group[control_group['revenue'] < 5000].shape[0])"
   ]
  },
  {
   "cell_type": "markdown",
   "metadata": {},
   "source": [
    "Выше получили, что таких пользователей составляют меньше тысячной от числа тех, кто платит $[0;5000]$. Поэтому в конце рассмотрим случаи, когда из контрольной выборки такие пользователи удаляются(т.е. считаются выбросом), и когда их учитываем."
   ]
  },
  {
   "cell_type": "code",
   "execution_count": 7,
   "metadata": {},
   "outputs": [
    {
     "data": {
      "text/plain": [
       "<matplotlib.axes._subplots.AxesSubplot at 0x7f05373d5a20>"
      ]
     },
     "execution_count": 7,
     "metadata": {},
     "output_type": "execute_result"
    },
    {
     "data": {
      "image/png": "[encoded data removed]",
      "text/plain": [
       "<Figure size 432x288 with 1 Axes>"
      ]
     },
     "metadata": {
      "needs_background": "light"
     },
     "output_type": "display_data"
    }
   ],
   "source": [
    "control_group[control_group['revenue'] < 5000].revenue.hist()"
   ]
  },
  {
   "cell_type": "markdown",
   "metadata": {},
   "source": [
    "В контрольной группе стали немного видны пользователи с $Revenue = [200;400]$"
   ]
  },
  {
   "cell_type": "code",
   "execution_count": 20,
   "metadata": {},
   "outputs": [
    {
     "data": {
      "text/plain": [
       "<matplotlib.axes._subplots.AxesSubplot at 0x7fe55f082f60>"
      ]
     },
     "execution_count": 20,
     "metadata": {},
     "output_type": "execute_result"
    },
    {
     "data": {
      "image/png": "[encoded data removed]",
      "text/plain": [
       "<Figure size 432x288 with 1 Axes>"
      ]
     },
     "metadata": {
      "needs_background": "light"
     },
     "output_type": "display_data"
    }
   ],
   "source": [
    "test_group.revenue.hist()"
   ]
  },
  {
   "cell_type": "markdown",
   "metadata": {},
   "source": [
    "По распределению `Revenue` видно, что распределения сильно отличается от нормального. Применим непараметрический \n",
    "критерий Мана-Уитни для оценки стат.значимости отличия `APRU` для двух групп в случае учёта выбросов и без учёта выбросов:"
   ]
  },
  {
   "cell_type": "markdown",
   "metadata": {},
   "source": [
    "**H0** - в генеральной совокупности никакого различия между ARPU нет\n",
    "\n",
    "**H1** - в генеральной совокупности ARPU двух групп отличаются стат. значимо"
   ]
  },
  {
   "cell_type": "code",
   "execution_count": 38,
   "metadata": {},
   "outputs": [
    {
     "name": "stdout",
     "output_type": "stream",
     "text": [
      "MannwhitneyuResult(statistic=20466331335.0, pvalue=0.8675688044687636)\n"
     ]
    }
   ],
   "source": [
    "print(stats.mannwhitneyu(control_group[control_group['revenue'] < 30000].revenue, test_group.revenue ))"
   ]
  },
  {
   "cell_type": "code",
   "execution_count": 39,
   "metadata": {},
   "outputs": [
    {
     "name": "stdout",
     "output_type": "stream",
     "text": [
      "MannwhitneyuResult(statistic=20491259376.0, pvalue=0.06269701316074398)\n"
     ]
    }
   ],
   "source": [
    "print(stats.mannwhitneyu(control_group.revenue, test_group.revenue ))"
   ]
  },
  {
   "cell_type": "markdown",
   "metadata": {},
   "source": [
    "Получили, что в обоих случаях  $p-value > 0.05$, поэтому нет оснований отвергать нулевую гипотезу. Считаем, что \n",
    "в ARPU у тестовой выборки отличается не стат. значимо. Заметим также, что удаление выбросов может сильно повлиять \n",
    "на итоговый результат."
   ]
  },
  {
   "cell_type": "markdown",
   "metadata": {},
   "source": [
    "### ARPPU"
   ]
  },
  {
   "cell_type": "markdown",
   "metadata": {},
   "source": [
    "Теперь оценим показатель среднюю прибыль только от платящих польователей. Попробуем также применить\n",
    "трансформацию к данным в виде логарифма. Учтём также наличие больших выбросов в контрольной выборке:"
   ]
  },
  {
   "cell_type": "code",
   "execution_count": 5,
   "metadata": {},
   "outputs": [
    {
     "data": {
      "text/plain": [
       "<seaborn.axisgrid.FacetGrid at 0x7f68ba608b70>"
      ]
     },
     "execution_count": 5,
     "metadata": {},
     "output_type": "execute_result"
    },
    {
     "data": {
      "image/png": "[encoded data removed]",
      "text/plain": [
       "<Figure size 360x360 with 1 Axes>"
      ]
     },
     "metadata": {
      "needs_background": "light"
     },
     "output_type": "display_data"
    }
   ],
   "source": [
    "#контрольная выборка с выбросами\n",
    "sns.displot(np.log(control_group[control_group['revenue'] > 0].revenue), kde = False)"
   ]
  },
  {
   "cell_type": "code",
   "execution_count": 6,
   "metadata": {},
   "outputs": [
    {
     "data": {
      "text/plain": [
       "<seaborn.axisgrid.FacetGrid at 0x7f68ba15a588>"
      ]
     },
     "execution_count": 6,
     "metadata": {},
     "output_type": "execute_result"
    },
    {
     "data": {
      "image/png": "[encoded data removed]",
      "text/plain": [
       "<Figure size 360x360 with 1 Axes>"
      ]
     },
     "metadata": {
      "needs_background": "light"
     },
     "output_type": "display_data"
    }
   ],
   "source": [
    "#контрольаная выборка без выбросов\n",
    "sns.displot(np.log(control_group[(control_group['revenue'] > 0) & (control_group['revenue'] <30000)].revenue), kde=False)"
   ]
  },
  {
   "cell_type": "code",
   "execution_count": 7,
   "metadata": {},
   "outputs": [
    {
     "data": {
      "text/plain": [
       "<seaborn.axisgrid.FacetGrid at 0x7f68ba10beb8>"
      ]
     },
     "execution_count": 7,
     "metadata": {},
     "output_type": "execute_result"
    },
    {
     "data": {
      "image/png": "[encoded data removed]",
      "text/plain": [
       "<Figure size 360x360 with 1 Axes>"
      ]
     },
     "metadata": {
      "needs_background": "light"
     },
     "output_type": "display_data"
    }
   ],
   "source": [
    "#тестовая выборка\n",
    "sns.displot(np.log(test_group[test_group['revenue'] > 0].revenue), kde=False)"
   ]
  },
  {
   "cell_type": "code",
   "execution_count": 13,
   "metadata": {},
   "outputs": [
    {
     "name": "stdout",
     "output_type": "stream",
     "text": [
      "NormaltestResult(statistic=1340.7214063175247, pvalue=7.3459122018786625e-292)\n",
      "NormaltestResult(statistic=636.0059495324283, pvalue=7.817408923593704e-139)\n",
      "NormaltestResult(statistic=594.7849234183507, pvalue=6.983850275213673e-130)\n"
     ]
    }
   ],
   "source": [
    "control_revenue = control_group[control_group['revenue'] > 0].revenue\n",
    "control_no_outliers = control_group[(control_group['revenue'] > 0) & (control_group['revenue'] < 30000)].revenue\n",
    "test_revenue = test_group[test_group['revenue'] > 0].revenue\n",
    "\n",
    "logged_control_revenue = np.log(control_revenue)\n",
    "logged_control_no_outliers = np.log(control_no_outliers)\n",
    "logged_test_revenue = np.log(test_revenue)\n",
    "\n",
    "print(stats.normaltest(logged_control_revenue))\n",
    "print(stats.normaltest(logged_control_no_outliers))                               \n",
    "print(stats.normaltest(logged_test_revenue))\n"
   ]
  },
  {
   "cell_type": "markdown",
   "metadata": {},
   "source": [
    "Несмотря на попытку трансформации данных с помощью логарифмирования распределение переменной **revenue** не стало нормальным. Будем  работать с исходными данными(до применения логарифма).Для оценки стат.значимости отличия **ARPPU** у двух выборок воспользуемся непараметрическим критерием Мана-Уитни:"
   ]
  },
  {
   "cell_type": "code",
   "execution_count": 14,
   "metadata": {},
   "outputs": [
    {
     "name": "stdout",
     "output_type": "stream",
     "text": [
      "Cреднее значение для контрольной выборки: 2663.9984439834025\n",
      "Cреднее значение для контрольной выборки без выбросов: 302.45817174515236\n",
      "Cреднее значение для тестовой выборки: 3003.6581717451522\n"
     ]
    }
   ],
   "source": [
    "print(f'Cреднее значение для контрольной выборки: {control_revenue.mean()}')\n",
    "print(f'Cреднее значение для контрольной выборки без выбросов: {control_no_outliers.mean()}')\n",
    "print(f'Cреднее значение для тестовой выборки: {test_revenue.mean()}')"
   ]
  },
  {
   "cell_type": "code",
   "execution_count": 15,
   "metadata": {},
   "outputs": [
    {
     "name": "stdout",
     "output_type": "stream",
     "text": [
      "MannwhitneyuResult(statistic=222015.0, pvalue=0.0)\n"
     ]
    }
   ],
   "source": [
    "#тест Мана-Уитни для контрольной выборки с выбросами:\n",
    "print(stats.mannwhitneyu(control_revenue,test_revenue))"
   ]
  },
  {
   "cell_type": "code",
   "execution_count": 16,
   "metadata": {},
   "outputs": [
    {
     "name": "stdout",
     "output_type": "stream",
     "text": [
      "MannwhitneyuResult(statistic=0.0, pvalue=0.0)\n"
     ]
    }
   ],
   "source": [
    "#тест Мана-Уитни для контрольной выборки без выбросов:\n",
    "print(stats.mannwhitneyu(control_no_outliers,test_revenue))"
   ]
  },
  {
   "cell_type": "markdown",
   "metadata": {},
   "source": [
    "Посмотрим на статистику платящих и неплатящих клиентов:"
   ]
  },
  {
   "cell_type": "code",
   "execution_count": 33,
   "metadata": {},
   "outputs": [
    {
     "name": "stdout",
     "output_type": "stream",
     "text": [
      "Количество платящих пользователей в контрольной группе: 1928\n",
      "Количество пользователей в контрольной группе, заплативших меньше 30000 : 1805\n",
      "Количество неплатящих пользователей в контрольной группе 200175\n",
      "\n",
      "\n",
      "Количество платящих пользователей в тестовой группе: 1805\n",
      "Количество неплатящих пользователей в тестовой группе: 200862\n"
     ]
    }
   ],
   "source": [
    "print('Количество платящих пользователей в контрольной группе:', \n",
    "      control_group[control_group['revenue'] > 0].user_id.nunique() )\n",
    "\n",
    "print('Количество пользователей в контрольной группе, заплативших меньше 30000 :',\n",
    "        control_group[(control_group['revenue'] > 0) & (control_group['revenue'] < 30000)].user_id.nunique())\n",
    "print('Количество неплатящих пользователей в контрольной группе',\n",
    "     control_group[control_group['revenue'] == 0].user_id.nunique())\n",
    "print('\\n')\n",
    "print('Количество платящих пользователей в тестовой группе:', \n",
    "     test_group[test_group['revenue'] > 0].user_id.nunique())\n",
    "print('Количество неплатящих пользователей в тестовой группе:', \n",
    "     test_group[test_group['revenue'] == 0].user_id.nunique())"
   ]
  },
  {
   "cell_type": "markdown",
   "metadata": {},
   "source": [
    "Получили, что в обоих случаях $p-value < 0.05$, то есть  `ARPPU` **у тестовой группы стат. значимо выше**, чем `ARPPU`у контрольной группы."
   ]
  },
  {
   "cell_type": "markdown",
   "metadata": {},
   "source": [
    "### Вывод: \n",
    "\n",
    "Для оценки результатов A/B тестирование будем использовать метрики `ARPU`(average revenue per user) и `ARPPU`(average revenue per paying user). Первая метрика показывает среднюю выручку со всех активных пользователей продукта за текущий период(платящих и неплатящих). Вторая метрика показывает среднюю выручку только с платящих пользователей.\n",
    "\n",
    "В результате эксперимента было получено, что $ARPU_{test} > ARPU_{control}$, но эта разница не стат. значима. В то же время $ARPPU_{test} > ARPPU_{control}$, и эта разница стат. значима. \n",
    "\n",
    "При меньшем или равном количестве платящих пользователей в тестовой группе мы получили стат. значимое отличие `ARPPU`. Следовательно можно предположить, что акцонные предложения не повлияли на увеличение выручки со всех пользоват, но платящие пользователи готовы были покупать больше, чем обычно. Следовательно, можно посоветовать компании поработать над увеличением конверсии пользователя продукта в клиента."
   ]
  },
  {
   "cell_type": "markdown",
   "metadata": {},
   "source": [
    "## Задание 3"
   ]
  },
  {
   "cell_type": "markdown",
   "metadata": {},
   "source": [
    "Рассмотрим отдельно случаи обычной игровой механики и усложнённой."
   ]
  },
  {
   "cell_type": "markdown",
   "metadata": {},
   "source": [
    "Обычная игровая механика:\n",
    "\n",
    "1) **`Фактор-виральности`**\n",
    "\n",
    "\n",
    "$K-фактор = X*Y*Z$,\n",
    "\n",
    "где  *X* — процент пользователей, которые пригласили новых пользователей, *Y* — среднее число людей, которых пригласил единичный пользователь, *Z* — число пользователей, принявших приглашение. Вполне вероятно, что игроки, знающие и участвующие в прохождении тематического события могут рассказать о нём тем пользователям, которые ещё о нем не слышали или немного утратили интерес к игре. Хорошее тематическое событие с перспективой получить бонусы может вернуть интерес к игре.\n",
    "\n",
    "2) **`Средняя продолжительность сесссии(average session lenght, ASL)`**\n",
    "\n",
    "$ASL = \\frac{T}{N}$\n",
    "\n",
    "T - суммарная продолжительность сессий за период, N - общее количество сессий за период\n",
    "\n",
    "3) **`Количество сессий на пользователя`** - поможет понять, как часто один пользователь возвращается в игру. Сравнить этот показатель в обычный и \"тематический\" день.\n",
    "\n",
    "4) **`DAU`** (daily average users) - сколько пользователей в день заходят в приложение. Для оценки успешности введения тематических событий необходимо сравнить данный параметр с `DAU` обычного дня.\n",
    "\n",
    "5) **`Глубина прохождения`** - звучит немного странно, но здесь имеется в виду, сколько уровней готов пройти пользователь игры за один визит. Поможет оценить энтузиазм пользователей в получении бонусов и уникальных предметов. \n"
   ]
  },
  {
   "cell_type": "markdown",
   "metadata": {},
   "source": [
    "Усложнённая игровая механика:\n",
    "Учитывая, что механика усложнилась и есть риск возвращения на старые уровни, то можно ожидать, что это негативно\n",
    "скажется на вышеописанных метриках. Следовательно дополнительно можно ввести следующие метрики:\n",
    "\n",
    "1) **`Средняя продолжительность игры после неудачной попытки`** - позволит оценить влияние потери уровня на желание пользователя продолжать игру.\n",
    "\n",
    "2) **`Доля пользователей, которые вышли после неудачной попытки`** - неудачная попытка и потеря уровня -  это негативные события. Многим не нравится проигрывать, а потеря уровня усиливает негативное впечатления пользователя.Сравнение значений у обычной и сложной механик позволит оценить, насколько сильное влияние оказывает потеря уровня."
   ]
  }
 ],
 "metadata": {
  "kernelspec": {
   "display_name": "Python 3 (ipykernel)",
   "language": "python",
   "name": "python3"
  },
  "language_info": {
   "codemirror_mode": {
    "name": "ipython",
    "version": 3
   },
   "file_extension": ".py",
   "mimetype": "text/x-python",
   "name": "python",
   "nbconvert_exporter": "python",
   "pygments_lexer": "ipython3",
   "version": "3.8.8"
  }
 },
 "nbformat": 4,
 "nbformat_minor": 4
}
